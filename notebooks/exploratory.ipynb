{
 "cells": [
  {
   "cell_type": "markdown",
   "metadata": {},
   "source": [
    "# Letterboxd Analysis Project: Exploration\n",
    "\n",
    "**Author:** Sierra Stanton\n",
    "***"
   ]
  },
  {
   "cell_type": "markdown",
   "metadata": {},
   "source": [
    "![Cinema Amy Poehler Tina Fey](../images/amy-poehler-tina-fey-cinema.gif)"
   ]
  },
  {
   "cell_type": "markdown",
   "metadata": {},
   "source": [
    "## Overview\n",
    "\n",
    "This project shows an analysis of the top 4,000 users on Letterboxd and their contributed film ratings in order for us to create a recommendation system that predicts which films users will most enjoy."
   ]
  },
  {
   "cell_type": "markdown",
   "metadata": {},
   "source": [
    "## Problem\n",
    "\n",
    "With all of the choices available to us across a myriad of sources, we need better help interpreting the signal from the noise. In this use case, we'll help film fans find their next favorite film by using an extensive database of films and ratings to better diagnose what they'll like and recommend films accordingly."
   ]
  },
  {
   "cell_type": "markdown",
   "metadata": {},
   "source": [
    "## Data Understanding\n",
    "\n",
    "We're using data from an app called Letterboxd, which separates itself from the pack due to it's emphasis on community and social networking around film critique. In fact, this app was first recommended to me a few years back by a friend working at the Britism Film Institute (BFI) and who happened to have a taste similar to mine. My experience with Letterboxd made me particularly interested in the app's development and future value. They've experienced immense growth in the past few years - XY stat.\n",
    "\n",
    "Letterboxd, which dubs itself a \"social film discovery platform\", has the ability to follow critics and see their evaluation of a wide variety of films. However, there has yet to be a way to get personalized recommendations based on your film preferences. This project solves exactly that and provides a way for Letterboxd users to get a record of the films they're most likely to enjoy.\n",
    "\n",
    "Sam Learner scrapes data from Letterboxd and hosts the datasets we used on Kaggle [here](https://www.kaggle.com/samlearner/letterboxd-movie-ratings-data). Note - for our purposes, we choose not to use his included `Users` dataset.\n",
    "\n",
    "Our two datasets are the following:\n",
    "*  The Movie Data (`movie_data.csv`): this dataset gives us each film's unique ID, title, and year of release.\n",
    "*  The Ratings Data (`ratings_export.csv`): this dataset shows each rating from 1-10 that Letterboxd's top 4,000 users have submitted according to the particular film. Note that on the app this is shown as 1-5, however the 1-10 split data reflects each half star by assigning it a number (4.5 becomes 9, 5 becomes 10).\n",
    "\n",
    "**NOTE:** Due to the lengthy size of the dataset (over 8M film review records), I recommend heading to the link above for download instructions and in order to get the very latest version of scraped data."
   ]
  },
  {
   "cell_type": "code",
   "execution_count": 1,
   "metadata": {},
   "outputs": [],
   "source": [
    "# Import standard packages\n",
    "import pandas as pd\n",
    "import matplotlib.pyplot as plt\n",
    "import seaborn as sns\n",
    "import re\n",
    "\n",
    "%matplotlib inline"
   ]
  },
  {
   "cell_type": "markdown",
   "metadata": {},
   "source": [
    "### Import: Movie Data"
   ]
  },
  {
   "cell_type": "code",
   "execution_count": 2,
   "metadata": {},
   "outputs": [
    {
     "name": "stdout",
     "output_type": "stream",
     "text": [
      "<class 'pandas.core.frame.DataFrame'>\n",
      "RangeIndex: 251066 entries, 0 to 251065\n",
      "Data columns (total 5 columns):\n",
      " #   Column         Non-Null Count   Dtype  \n",
      "---  ------         --------------   -----  \n",
      " 0   _id            251066 non-null  object \n",
      " 1   image_url      233307 non-null  object \n",
      " 2   movie_id       251064 non-null  object \n",
      " 3   movie_title    249625 non-null  object \n",
      " 4   year_released  245678 non-null  float64\n",
      "dtypes: float64(1), object(4)\n",
      "memory usage: 9.6+ MB\n"
     ]
    },
    {
     "data": {
      "text/plain": [
       "None"
      ]
     },
     "metadata": {},
     "output_type": "display_data"
    },
    {
     "data": {
      "text/html": [
       "<div>\n",
       "<style scoped>\n",
       "    .dataframe tbody tr th:only-of-type {\n",
       "        vertical-align: middle;\n",
       "    }\n",
       "\n",
       "    .dataframe tbody tr th {\n",
       "        vertical-align: top;\n",
       "    }\n",
       "\n",
       "    .dataframe thead th {\n",
       "        text-align: right;\n",
       "    }\n",
       "</style>\n",
       "<table border=\"1\" class=\"dataframe\">\n",
       "  <thead>\n",
       "    <tr style=\"text-align: right;\">\n",
       "      <th></th>\n",
       "      <th>_id</th>\n",
       "      <th>image_url</th>\n",
       "      <th>movie_id</th>\n",
       "      <th>movie_title</th>\n",
       "      <th>year_released</th>\n",
       "    </tr>\n",
       "  </thead>\n",
       "  <tbody>\n",
       "    <tr>\n",
       "      <th>0</th>\n",
       "      <td>5fc85f606758f69634496fca</td>\n",
       "      <td>film-poster/5/6/9/1/4/1/569141-3am-0-230-0-345...</td>\n",
       "      <td>3am-2015</td>\n",
       "      <td>3AM</td>\n",
       "      <td>2015.0</td>\n",
       "    </tr>\n",
       "    <tr>\n",
       "      <th>1</th>\n",
       "      <td>5fc85f606758f69634496fd2</td>\n",
       "      <td>film-poster/4/0/0/2/1/1/400211-sensei-redensho...</td>\n",
       "      <td>sensei-redenshon</td>\n",
       "      <td>Sensei Redenshon</td>\n",
       "      <td>2013.0</td>\n",
       "    </tr>\n",
       "    <tr>\n",
       "      <th>2</th>\n",
       "      <td>5fc85f606758f69634496fcd</td>\n",
       "      <td>film-poster/9/3/3/1/8/93318-where-chimneys-are...</td>\n",
       "      <td>where-chimneys-are-seen</td>\n",
       "      <td>Where Chimneys Are Seen</td>\n",
       "      <td>1953.0</td>\n",
       "    </tr>\n",
       "    <tr>\n",
       "      <th>3</th>\n",
       "      <td>5fc85f606758f69634496fce</td>\n",
       "      <td>film-poster/4/9/5/9/0/49590-buck-rogers-0-230-...</td>\n",
       "      <td>buck-rogers</td>\n",
       "      <td>Buck Rogers</td>\n",
       "      <td>1977.0</td>\n",
       "    </tr>\n",
       "    <tr>\n",
       "      <th>4</th>\n",
       "      <td>5fc85f606758f69634496fd1</td>\n",
       "      <td>NaN</td>\n",
       "      <td>the-musicians-daughter</td>\n",
       "      <td>The Musician's Daughter</td>\n",
       "      <td>1911.0</td>\n",
       "    </tr>\n",
       "  </tbody>\n",
       "</table>\n",
       "</div>"
      ],
      "text/plain": [
       "                        _id  \\\n",
       "0  5fc85f606758f69634496fca   \n",
       "1  5fc85f606758f69634496fd2   \n",
       "2  5fc85f606758f69634496fcd   \n",
       "3  5fc85f606758f69634496fce   \n",
       "4  5fc85f606758f69634496fd1   \n",
       "\n",
       "                                           image_url                 movie_id  \\\n",
       "0  film-poster/5/6/9/1/4/1/569141-3am-0-230-0-345...                 3am-2015   \n",
       "1  film-poster/4/0/0/2/1/1/400211-sensei-redensho...         sensei-redenshon   \n",
       "2  film-poster/9/3/3/1/8/93318-where-chimneys-are...  where-chimneys-are-seen   \n",
       "3  film-poster/4/9/5/9/0/49590-buck-rogers-0-230-...              buck-rogers   \n",
       "4                                                NaN   the-musicians-daughter   \n",
       "\n",
       "               movie_title  year_released  \n",
       "0                      3AM         2015.0  \n",
       "1         Sensei Redenshon         2013.0  \n",
       "2  Where Chimneys Are Seen         1953.0  \n",
       "3              Buck Rogers         1977.0  \n",
       "4  The Musician's Daughter         1911.0  "
      ]
     },
     "execution_count": 2,
     "metadata": {},
     "output_type": "execute_result"
    }
   ],
   "source": [
    "# import movie_data.csv from our data folder\n",
    "\n",
    "df_mov = pd.read_csv('../data/movie_data.csv')\n",
    "display(df_mov.info())\n",
    "df_mov.head()"
   ]
  },
  {
   "cell_type": "markdown",
   "metadata": {},
   "source": [
    "### Import: Ratings Data"
   ]
  },
  {
   "cell_type": "code",
   "execution_count": 3,
   "metadata": {
    "scrolled": true
   },
   "outputs": [
    {
     "name": "stdout",
     "output_type": "stream",
     "text": [
      "<class 'pandas.core.frame.DataFrame'>\n",
      "RangeIndex: 8566009 entries, 0 to 8566008\n",
      "Data columns (total 4 columns):\n",
      " #   Column      Dtype \n",
      "---  ------      ----- \n",
      " 0   _id         object\n",
      " 1   movie_id    object\n",
      " 2   rating_val  int64 \n",
      " 3   user_id     object\n",
      "dtypes: int64(1), object(3)\n",
      "memory usage: 261.4+ MB\n"
     ]
    },
    {
     "data": {
      "text/plain": [
       "None"
      ]
     },
     "metadata": {},
     "output_type": "display_data"
    },
    {
     "data": {
      "text/html": [
       "<div>\n",
       "<style scoped>\n",
       "    .dataframe tbody tr th:only-of-type {\n",
       "        vertical-align: middle;\n",
       "    }\n",
       "\n",
       "    .dataframe tbody tr th {\n",
       "        vertical-align: top;\n",
       "    }\n",
       "\n",
       "    .dataframe thead th {\n",
       "        text-align: right;\n",
       "    }\n",
       "</style>\n",
       "<table border=\"1\" class=\"dataframe\">\n",
       "  <thead>\n",
       "    <tr style=\"text-align: right;\">\n",
       "      <th></th>\n",
       "      <th>_id</th>\n",
       "      <th>movie_id</th>\n",
       "      <th>rating_val</th>\n",
       "      <th>user_id</th>\n",
       "    </tr>\n",
       "  </thead>\n",
       "  <tbody>\n",
       "    <tr>\n",
       "      <th>0</th>\n",
       "      <td>5fc57c5c6758f69634519395</td>\n",
       "      <td>happiest-season</td>\n",
       "      <td>8</td>\n",
       "      <td>deathproof</td>\n",
       "    </tr>\n",
       "    <tr>\n",
       "      <th>1</th>\n",
       "      <td>5fc57c5c6758f69634519398</td>\n",
       "      <td>mank</td>\n",
       "      <td>5</td>\n",
       "      <td>deathproof</td>\n",
       "    </tr>\n",
       "    <tr>\n",
       "      <th>2</th>\n",
       "      <td>5fc57c5c6758f6963451939a</td>\n",
       "      <td>ammonite</td>\n",
       "      <td>4</td>\n",
       "      <td>deathproof</td>\n",
       "    </tr>\n",
       "    <tr>\n",
       "      <th>3</th>\n",
       "      <td>5fc57c5c6758f69634519396</td>\n",
       "      <td>the-high-note</td>\n",
       "      <td>6</td>\n",
       "      <td>deathproof</td>\n",
       "    </tr>\n",
       "    <tr>\n",
       "      <th>4</th>\n",
       "      <td>5fc57c5d6758f6963451a05b</td>\n",
       "      <td>embers-2015</td>\n",
       "      <td>5</td>\n",
       "      <td>deathproof</td>\n",
       "    </tr>\n",
       "  </tbody>\n",
       "</table>\n",
       "</div>"
      ],
      "text/plain": [
       "                        _id         movie_id  rating_val     user_id\n",
       "0  5fc57c5c6758f69634519395  happiest-season           8  deathproof\n",
       "1  5fc57c5c6758f69634519398             mank           5  deathproof\n",
       "2  5fc57c5c6758f6963451939a         ammonite           4  deathproof\n",
       "3  5fc57c5c6758f69634519396    the-high-note           6  deathproof\n",
       "4  5fc57c5d6758f6963451a05b      embers-2015           5  deathproof"
      ]
     },
     "execution_count": 3,
     "metadata": {},
     "output_type": "execute_result"
    }
   ],
   "source": [
    "# import ratings_export.csv from our data folder\n",
    "\n",
    "df_ratings = pd.read_csv('../data/ratings_export.csv')\n",
    "display(df_ratings.info())\n",
    "df_ratings.head()"
   ]
  },
  {
   "cell_type": "markdown",
   "metadata": {},
   "source": [
    "# Data Preparation"
   ]
  },
  {
   "cell_type": "markdown",
   "metadata": {},
   "source": [
    "Across both datasets, we'll first focus on cleaning them of problematic data. "
   ]
  },
  {
   "cell_type": "markdown",
   "metadata": {},
   "source": [
    "### Clean Up: Movie Data"
   ]
  },
  {
   "cell_type": "code",
   "execution_count": 4,
   "metadata": {},
   "outputs": [
    {
     "name": "stdout",
     "output_type": "stream",
     "text": [
      "<class 'pandas.core.frame.DataFrame'>\n",
      "RangeIndex: 251066 entries, 0 to 251065\n",
      "Data columns (total 5 columns):\n",
      " #   Column         Non-Null Count   Dtype  \n",
      "---  ------         --------------   -----  \n",
      " 0   _id            251066 non-null  object \n",
      " 1   image_url      233307 non-null  object \n",
      " 2   movie_id       251064 non-null  object \n",
      " 3   movie_title    249625 non-null  object \n",
      " 4   year_released  245678 non-null  float64\n",
      "dtypes: float64(1), object(4)\n",
      "memory usage: 9.6+ MB\n"
     ]
    },
    {
     "data": {
      "text/plain": [
       "None"
      ]
     },
     "metadata": {},
     "output_type": "display_data"
    },
    {
     "data": {
      "text/html": [
       "<div>\n",
       "<style scoped>\n",
       "    .dataframe tbody tr th:only-of-type {\n",
       "        vertical-align: middle;\n",
       "    }\n",
       "\n",
       "    .dataframe tbody tr th {\n",
       "        vertical-align: top;\n",
       "    }\n",
       "\n",
       "    .dataframe thead th {\n",
       "        text-align: right;\n",
       "    }\n",
       "</style>\n",
       "<table border=\"1\" class=\"dataframe\">\n",
       "  <thead>\n",
       "    <tr style=\"text-align: right;\">\n",
       "      <th></th>\n",
       "      <th>_id</th>\n",
       "      <th>image_url</th>\n",
       "      <th>movie_id</th>\n",
       "      <th>movie_title</th>\n",
       "      <th>year_released</th>\n",
       "    </tr>\n",
       "  </thead>\n",
       "  <tbody>\n",
       "    <tr>\n",
       "      <th>0</th>\n",
       "      <td>5fc85f606758f69634496fca</td>\n",
       "      <td>film-poster/5/6/9/1/4/1/569141-3am-0-230-0-345...</td>\n",
       "      <td>3am-2015</td>\n",
       "      <td>3AM</td>\n",
       "      <td>2015.0</td>\n",
       "    </tr>\n",
       "    <tr>\n",
       "      <th>1</th>\n",
       "      <td>5fc85f606758f69634496fd2</td>\n",
       "      <td>film-poster/4/0/0/2/1/1/400211-sensei-redensho...</td>\n",
       "      <td>sensei-redenshon</td>\n",
       "      <td>Sensei Redenshon</td>\n",
       "      <td>2013.0</td>\n",
       "    </tr>\n",
       "    <tr>\n",
       "      <th>2</th>\n",
       "      <td>5fc85f606758f69634496fcd</td>\n",
       "      <td>film-poster/9/3/3/1/8/93318-where-chimneys-are...</td>\n",
       "      <td>where-chimneys-are-seen</td>\n",
       "      <td>Where Chimneys Are Seen</td>\n",
       "      <td>1953.0</td>\n",
       "    </tr>\n",
       "    <tr>\n",
       "      <th>3</th>\n",
       "      <td>5fc85f606758f69634496fce</td>\n",
       "      <td>film-poster/4/9/5/9/0/49590-buck-rogers-0-230-...</td>\n",
       "      <td>buck-rogers</td>\n",
       "      <td>Buck Rogers</td>\n",
       "      <td>1977.0</td>\n",
       "    </tr>\n",
       "    <tr>\n",
       "      <th>4</th>\n",
       "      <td>5fc85f606758f69634496fd1</td>\n",
       "      <td>NaN</td>\n",
       "      <td>the-musicians-daughter</td>\n",
       "      <td>The Musician's Daughter</td>\n",
       "      <td>1911.0</td>\n",
       "    </tr>\n",
       "  </tbody>\n",
       "</table>\n",
       "</div>"
      ],
      "text/plain": [
       "                        _id  \\\n",
       "0  5fc85f606758f69634496fca   \n",
       "1  5fc85f606758f69634496fd2   \n",
       "2  5fc85f606758f69634496fcd   \n",
       "3  5fc85f606758f69634496fce   \n",
       "4  5fc85f606758f69634496fd1   \n",
       "\n",
       "                                           image_url                 movie_id  \\\n",
       "0  film-poster/5/6/9/1/4/1/569141-3am-0-230-0-345...                 3am-2015   \n",
       "1  film-poster/4/0/0/2/1/1/400211-sensei-redensho...         sensei-redenshon   \n",
       "2  film-poster/9/3/3/1/8/93318-where-chimneys-are...  where-chimneys-are-seen   \n",
       "3  film-poster/4/9/5/9/0/49590-buck-rogers-0-230-...              buck-rogers   \n",
       "4                                                NaN   the-musicians-daughter   \n",
       "\n",
       "               movie_title  year_released  \n",
       "0                      3AM         2015.0  \n",
       "1         Sensei Redenshon         2013.0  \n",
       "2  Where Chimneys Are Seen         1953.0  \n",
       "3              Buck Rogers         1977.0  \n",
       "4  The Musician's Daughter         1911.0  "
      ]
     },
     "execution_count": 4,
     "metadata": {},
     "output_type": "execute_result"
    }
   ],
   "source": [
    "# preview data\n",
    "\n",
    "display(df_mov.info())\n",
    "df_mov.head()"
   ]
  },
  {
   "cell_type": "code",
   "execution_count": 5,
   "metadata": {},
   "outputs": [
    {
     "name": "stdout",
     "output_type": "stream",
     "text": [
      "Number of Films:  251064\n"
     ]
    }
   ],
   "source": [
    "# determine how many films we have represented\n",
    "\n",
    "print('Number of Films: ', len(df_mov['movie_id'].unique()))"
   ]
  },
  {
   "cell_type": "markdown",
   "metadata": {},
   "source": [
    "#### Column Breakdown\n",
    "\n",
    "*  `_id`: this id is unique across rows, but does not point to anything significant.\n",
    "\n",
    "\n",
    "*  `image_url`: this data should be useful when surfacing recommendations, also ensures we can distinguish films of the same title.\n",
    "\n",
    "\n",
    "*  `movie_id`: this id points to each film and is unique among films with the same title\n",
    "\n",
    "\n",
    "*  `movie_title`: this is a text version of the film but is not unique as there are different films with the same title, and a variety of languages present in some cases.\n",
    "\n",
    "\n",
    "*  `year_released`: this shows the film's release year and sometimes outlines films yet to be released"
   ]
  },
  {
   "cell_type": "markdown",
   "metadata": {},
   "source": [
    "#### Remove rows with key data missing\n",
    "Since we already have over 250000 films represented, let's try only keeping the films that have full information present."
   ]
  },
  {
   "cell_type": "code",
   "execution_count": 6,
   "metadata": {},
   "outputs": [
    {
     "data": {
      "text/plain": [
       "_id                  0\n",
       "image_url        17759\n",
       "movie_id             2\n",
       "movie_title       1441\n",
       "year_released     5388\n",
       "dtype: int64"
      ]
     },
     "execution_count": 6,
     "metadata": {},
     "output_type": "execute_result"
    }
   ],
   "source": [
    "# check columns across movie dataframe for null values\n",
    "\n",
    "df_mov.isna().sum()"
   ]
  },
  {
   "cell_type": "code",
   "execution_count": 7,
   "metadata": {},
   "outputs": [],
   "source": [
    "# drop any rows that don't have associated info complete\n",
    "\n",
    "df_mov = df_mov.dropna(how='any',\n",
    "                    subset=['movie_id', 'movie_title', 'image_url', 'year_released'])"
   ]
  },
  {
   "cell_type": "code",
   "execution_count": 8,
   "metadata": {},
   "outputs": [
    {
     "data": {
      "text/plain": [
       "_id              0\n",
       "image_url        0\n",
       "movie_id         0\n",
       "movie_title      0\n",
       "year_released    0\n",
       "dtype: int64"
      ]
     },
     "execution_count": 8,
     "metadata": {},
     "output_type": "execute_result"
    }
   ],
   "source": [
    "# check columns across movie dataframe to ensure no null values are present\n",
    "\n",
    "df_mov.isna().sum()"
   ]
  },
  {
   "cell_type": "code",
   "execution_count": 9,
   "metadata": {},
   "outputs": [
    {
     "name": "stdout",
     "output_type": "stream",
     "text": [
      "Number of Films:  230858\n"
     ]
    }
   ],
   "source": [
    "# how many films do we have left\n",
    "\n",
    "print('Number of Films: ', len(df_mov['movie_id'].unique()))"
   ]
  },
  {
   "cell_type": "markdown",
   "metadata": {},
   "source": [
    "Let's also look deeper into info around `release year` to better understand this column and ensure there's no tricky or faulty data."
   ]
  },
  {
   "cell_type": "code",
   "execution_count": 10,
   "metadata": {},
   "outputs": [
    {
     "name": "stdout",
     "output_type": "stream",
     "text": [
      "count    230859.000000\n",
      "mean       1992.907216\n",
      "std          27.705089\n",
      "min        1874.000000\n",
      "25%        1977.000000\n",
      "50%        2004.000000\n",
      "75%        2015.000000\n",
      "max        2028.000000\n",
      "Name: year_released, dtype: float64\n",
      "188032    1874.0\n",
      "155385    1878.0\n",
      "70572     1878.0\n",
      "208301    1879.0\n",
      "47833     1881.0\n",
      "Name: year_released, dtype: float64\n"
     ]
    },
    {
     "data": {
      "text/plain": [
       "231785    2022.0\n",
       "2624      2023.0\n",
       "209133    2023.0\n",
       "249950    2023.0\n",
       "234340    2028.0\n",
       "Name: year_released, dtype: float64"
      ]
     },
     "execution_count": 10,
     "metadata": {},
     "output_type": "execute_result"
    }
   ],
   "source": [
    "# ensure there's no tricky data in release year\n",
    "\n",
    "print(df_mov.year_released.describe())\n",
    "print(df_mov.year_released.sort_values(ascending=True).head())\n",
    "df_mov.year_released.sort_values(ascending=True).tail()\n",
    "\n",
    "# reference: https://pandas.pydata.org/docs/reference/api/pandas.DataFrame.sort_values.html"
   ]
  },
  {
   "cell_type": "markdown",
   "metadata": {},
   "source": [
    "### Clean Up: Ratings Data"
   ]
  },
  {
   "cell_type": "code",
   "execution_count": 11,
   "metadata": {},
   "outputs": [
    {
     "data": {
      "text/html": [
       "<div>\n",
       "<style scoped>\n",
       "    .dataframe tbody tr th:only-of-type {\n",
       "        vertical-align: middle;\n",
       "    }\n",
       "\n",
       "    .dataframe tbody tr th {\n",
       "        vertical-align: top;\n",
       "    }\n",
       "\n",
       "    .dataframe thead th {\n",
       "        text-align: right;\n",
       "    }\n",
       "</style>\n",
       "<table border=\"1\" class=\"dataframe\">\n",
       "  <thead>\n",
       "    <tr style=\"text-align: right;\">\n",
       "      <th></th>\n",
       "      <th>_id</th>\n",
       "      <th>movie_id</th>\n",
       "      <th>rating_val</th>\n",
       "      <th>user_id</th>\n",
       "    </tr>\n",
       "  </thead>\n",
       "  <tbody>\n",
       "    <tr>\n",
       "      <th>0</th>\n",
       "      <td>5fc57c5c6758f69634519395</td>\n",
       "      <td>happiest-season</td>\n",
       "      <td>8</td>\n",
       "      <td>deathproof</td>\n",
       "    </tr>\n",
       "    <tr>\n",
       "      <th>1</th>\n",
       "      <td>5fc57c5c6758f69634519398</td>\n",
       "      <td>mank</td>\n",
       "      <td>5</td>\n",
       "      <td>deathproof</td>\n",
       "    </tr>\n",
       "    <tr>\n",
       "      <th>2</th>\n",
       "      <td>5fc57c5c6758f6963451939a</td>\n",
       "      <td>ammonite</td>\n",
       "      <td>4</td>\n",
       "      <td>deathproof</td>\n",
       "    </tr>\n",
       "    <tr>\n",
       "      <th>3</th>\n",
       "      <td>5fc57c5c6758f69634519396</td>\n",
       "      <td>the-high-note</td>\n",
       "      <td>6</td>\n",
       "      <td>deathproof</td>\n",
       "    </tr>\n",
       "    <tr>\n",
       "      <th>4</th>\n",
       "      <td>5fc57c5d6758f6963451a05b</td>\n",
       "      <td>embers-2015</td>\n",
       "      <td>5</td>\n",
       "      <td>deathproof</td>\n",
       "    </tr>\n",
       "  </tbody>\n",
       "</table>\n",
       "</div>"
      ],
      "text/plain": [
       "                        _id         movie_id  rating_val     user_id\n",
       "0  5fc57c5c6758f69634519395  happiest-season           8  deathproof\n",
       "1  5fc57c5c6758f69634519398             mank           5  deathproof\n",
       "2  5fc57c5c6758f6963451939a         ammonite           4  deathproof\n",
       "3  5fc57c5c6758f69634519396    the-high-note           6  deathproof\n",
       "4  5fc57c5d6758f6963451a05b      embers-2015           5  deathproof"
      ]
     },
     "metadata": {},
     "output_type": "display_data"
    },
    {
     "name": "stdout",
     "output_type": "stream",
     "text": [
      "<class 'pandas.core.frame.DataFrame'>\n",
      "RangeIndex: 8566009 entries, 0 to 8566008\n",
      "Data columns (total 4 columns):\n",
      " #   Column      Dtype \n",
      "---  ------      ----- \n",
      " 0   _id         object\n",
      " 1   movie_id    object\n",
      " 2   rating_val  int64 \n",
      " 3   user_id     object\n",
      "dtypes: int64(1), object(3)\n",
      "memory usage: 261.4+ MB\n"
     ]
    }
   ],
   "source": [
    "# preview data\n",
    "\n",
    "display(df_ratings.head())\n",
    "df_ratings.info()"
   ]
  },
  {
   "cell_type": "markdown",
   "metadata": {},
   "source": [
    "This df contains over 8.56M rows which is our largest out of the three datasets. This is because each user's rating across each film is represented as a disparate row. Let's see how many unique users and films are represented in this dataset."
   ]
  },
  {
   "cell_type": "code",
   "execution_count": 12,
   "metadata": {},
   "outputs": [
    {
     "name": "stdout",
     "output_type": "stream",
     "text": [
      "Number of Users:  4501\n",
      "Number of Movies:  251064\n"
     ]
    }
   ],
   "source": [
    "# determine how many users and films we can work with that have associated ratings\n",
    "\n",
    "print('Number of Users: ', len(df_ratings['user_id'].unique()))\n",
    "print('Number of Movies: ', len(df_ratings['movie_id'].unique()))"
   ]
  },
  {
   "cell_type": "markdown",
   "metadata": {},
   "source": [
    "#### Column Breakdown\n",
    "\n",
    "*  `_id`: this id is unique across rows, but does not point to anything significant.\n",
    "\n",
    "\n",
    "*  `movie_id`: this id points to each film, is unique among films with the same title, and can therefore as a join to our movie data.\n",
    "\n",
    "\n",
    "*  `rating_val`: shows each rating from 1-10 that Letterboxd's top 4,000 users have submitted according to the particular film. Note that on the app this is shown as 1-5 with half star ratings as an option, however the 1-10 split in our data reflects each half star by assigning it a number (i.e. 4.5 becomes 9, 5 becomes 10).\n",
    "\n",
    "\n",
    "*  `user_id`: this shows the user attributed to each rating"
   ]
  },
  {
   "cell_type": "markdown",
   "metadata": {},
   "source": [
    "#### Remove rows with key data missing"
   ]
  },
  {
   "cell_type": "code",
   "execution_count": 13,
   "metadata": {
    "scrolled": true
   },
   "outputs": [
    {
     "data": {
      "text/plain": [
       "_id           0\n",
       "movie_id      6\n",
       "rating_val    0\n",
       "user_id       0\n",
       "dtype: int64"
      ]
     },
     "execution_count": 13,
     "metadata": {},
     "output_type": "execute_result"
    }
   ],
   "source": [
    "df_ratings.isna().sum()"
   ]
  },
  {
   "cell_type": "markdown",
   "metadata": {},
   "source": [
    "If the `movie_id` value that helps us identify the name of the film is missing - I'd argue those particular rows won't be valuable to us."
   ]
  },
  {
   "cell_type": "code",
   "execution_count": 14,
   "metadata": {},
   "outputs": [],
   "source": [
    "# drop any rows that have a rating not associated with a movie_id\n",
    "\n",
    "df_ratings = df_ratings.dropna(how='any',\n",
    "                    subset=['movie_id'])"
   ]
  },
  {
   "cell_type": "code",
   "execution_count": 15,
   "metadata": {
    "scrolled": false
   },
   "outputs": [
    {
     "data": {
      "text/plain": [
       "_id           0\n",
       "movie_id      0\n",
       "rating_val    0\n",
       "user_id       0\n",
       "dtype: int64"
      ]
     },
     "execution_count": 15,
     "metadata": {},
     "output_type": "execute_result"
    }
   ],
   "source": [
    "# ensure we no longer have any null values\n",
    "\n",
    "df_ratings.isna().sum()"
   ]
  },
  {
   "cell_type": "markdown",
   "metadata": {},
   "source": [
    "# Merge our movie data with our ratings data"
   ]
  },
  {
   "cell_type": "markdown",
   "metadata": {},
   "source": [
    "Our merge column `movie_id` is consistent across both of the datasets we'll combine for use in our recommender system. Let's use this column to bring our data together and preview results.\n",
    "\n",
    "**Note:** only the ratings data will be used when creating our recommendation model, but the movie data will prove helpful for our front end experience so we can recommend a film that Letterboxd users can quickly track down."
   ]
  },
  {
   "cell_type": "markdown",
   "metadata": {},
   "source": [
    "#### Remove unnecessary id columns across df's"
   ]
  },
  {
   "cell_type": "markdown",
   "metadata": {},
   "source": [
    "Since we determined our `id` column isn't valuable across both data sets and isn't compatible upon a merge, we'll need to drop the column prior to our merge."
   ]
  },
  {
   "cell_type": "code",
   "execution_count": 16,
   "metadata": {},
   "outputs": [],
   "source": [
    "# drop _id columns across df's\n",
    "\n",
    "df_ratings.drop(columns='_id', inplace=True)\n",
    "df_mov.drop(columns='_id', inplace=True)"
   ]
  },
  {
   "cell_type": "markdown",
   "metadata": {},
   "source": [
    "#### Merge both datasets according to the `movie_id`"
   ]
  },
  {
   "cell_type": "code",
   "execution_count": 17,
   "metadata": {},
   "outputs": [
    {
     "data": {
      "text/html": [
       "<div>\n",
       "<style scoped>\n",
       "    .dataframe tbody tr th:only-of-type {\n",
       "        vertical-align: middle;\n",
       "    }\n",
       "\n",
       "    .dataframe tbody tr th {\n",
       "        vertical-align: top;\n",
       "    }\n",
       "\n",
       "    .dataframe thead th {\n",
       "        text-align: right;\n",
       "    }\n",
       "</style>\n",
       "<table border=\"1\" class=\"dataframe\">\n",
       "  <thead>\n",
       "    <tr style=\"text-align: right;\">\n",
       "      <th></th>\n",
       "      <th>movie_id</th>\n",
       "      <th>rating_val</th>\n",
       "      <th>user_id</th>\n",
       "      <th>image_url</th>\n",
       "      <th>movie_title</th>\n",
       "      <th>year_released</th>\n",
       "    </tr>\n",
       "  </thead>\n",
       "  <tbody>\n",
       "    <tr>\n",
       "      <th>0</th>\n",
       "      <td>happiest-season</td>\n",
       "      <td>8</td>\n",
       "      <td>deathproof</td>\n",
       "      <td>film-poster/4/4/9/7/7/1/449771-happiest-season...</td>\n",
       "      <td>Happiest Season</td>\n",
       "      <td>2020.0</td>\n",
       "    </tr>\n",
       "    <tr>\n",
       "      <th>1</th>\n",
       "      <td>happiest-season</td>\n",
       "      <td>7</td>\n",
       "      <td>davidehrlich</td>\n",
       "      <td>film-poster/4/4/9/7/7/1/449771-happiest-season...</td>\n",
       "      <td>Happiest Season</td>\n",
       "      <td>2020.0</td>\n",
       "    </tr>\n",
       "    <tr>\n",
       "      <th>2</th>\n",
       "      <td>happiest-season</td>\n",
       "      <td>4</td>\n",
       "      <td>ingridgoeswest</td>\n",
       "      <td>film-poster/4/4/9/7/7/1/449771-happiest-season...</td>\n",
       "      <td>Happiest Season</td>\n",
       "      <td>2020.0</td>\n",
       "    </tr>\n",
       "    <tr>\n",
       "      <th>3</th>\n",
       "      <td>happiest-season</td>\n",
       "      <td>7</td>\n",
       "      <td>silentdawn</td>\n",
       "      <td>film-poster/4/4/9/7/7/1/449771-happiest-season...</td>\n",
       "      <td>Happiest Season</td>\n",
       "      <td>2020.0</td>\n",
       "    </tr>\n",
       "    <tr>\n",
       "      <th>4</th>\n",
       "      <td>happiest-season</td>\n",
       "      <td>2</td>\n",
       "      <td>colonelmortimer</td>\n",
       "      <td>film-poster/4/4/9/7/7/1/449771-happiest-season...</td>\n",
       "      <td>Happiest Season</td>\n",
       "      <td>2020.0</td>\n",
       "    </tr>\n",
       "  </tbody>\n",
       "</table>\n",
       "</div>"
      ],
      "text/plain": [
       "          movie_id  rating_val          user_id  \\\n",
       "0  happiest-season           8       deathproof   \n",
       "1  happiest-season           7     davidehrlich   \n",
       "2  happiest-season           4   ingridgoeswest   \n",
       "3  happiest-season           7       silentdawn   \n",
       "4  happiest-season           2  colonelmortimer   \n",
       "\n",
       "                                           image_url      movie_title  \\\n",
       "0  film-poster/4/4/9/7/7/1/449771-happiest-season...  Happiest Season   \n",
       "1  film-poster/4/4/9/7/7/1/449771-happiest-season...  Happiest Season   \n",
       "2  film-poster/4/4/9/7/7/1/449771-happiest-season...  Happiest Season   \n",
       "3  film-poster/4/4/9/7/7/1/449771-happiest-season...  Happiest Season   \n",
       "4  film-poster/4/4/9/7/7/1/449771-happiest-season...  Happiest Season   \n",
       "\n",
       "   year_released  \n",
       "0         2020.0  \n",
       "1         2020.0  \n",
       "2         2020.0  \n",
       "3         2020.0  \n",
       "4         2020.0  "
      ]
     },
     "execution_count": 17,
     "metadata": {},
     "output_type": "execute_result"
    }
   ],
   "source": [
    "# merge our movie data with our ratings data\n",
    "\n",
    "df_mer = pd.merge(df_ratings, df_mov, on=\"movie_id\")\n",
    "df_mer.head()"
   ]
  },
  {
   "cell_type": "markdown",
   "metadata": {},
   "source": [
    "Our merge method ensured film ratings have the associated film information present and that only films with a rating reflected are included."
   ]
  },
  {
   "cell_type": "code",
   "execution_count": 18,
   "metadata": {
    "scrolled": true
   },
   "outputs": [
    {
     "data": {
      "text/plain": [
       "movie_id         0\n",
       "rating_val       0\n",
       "user_id          0\n",
       "image_url        0\n",
       "movie_title      0\n",
       "year_released    0\n",
       "dtype: int64"
      ]
     },
     "execution_count": 18,
     "metadata": {},
     "output_type": "execute_result"
    }
   ],
   "source": [
    "# make sure we're above board prior to our modeling\n",
    "\n",
    "df_mer.isna().sum()"
   ]
  },
  {
   "cell_type": "code",
   "execution_count": 19,
   "metadata": {},
   "outputs": [
    {
     "name": "stdout",
     "output_type": "stream",
     "text": [
      "Number of Users:  4501\n",
      "Number of Movies:  230858\n"
     ]
    }
   ],
   "source": [
    "# determine how many resulting users and films we can work with that have associated ratings\n",
    "\n",
    "print('Number of Users: ', len(df_mer['user_id'].unique()))\n",
    "print('Number of Movies: ', len(df_mer['movie_id'].unique()))"
   ]
  },
  {
   "cell_type": "markdown",
   "metadata": {},
   "source": [
    "# Visualizing our Data"
   ]
  },
  {
   "cell_type": "markdown",
   "metadata": {},
   "source": [
    "First, we'll create a copy of our dataframe in order to separate our work and give us room to further manipulate our data."
   ]
  },
  {
   "cell_type": "code",
   "execution_count": 20,
   "metadata": {},
   "outputs": [],
   "source": [
    "# create a copy of our merged dataframe\n",
    "\n",
    "df_vis = df_mer.copy()"
   ]
  },
  {
   "cell_type": "markdown",
   "metadata": {},
   "source": [
    "### What are the typical ratings we can expect across our films?\n",
    "\n",
    "Let's see how ratings are distributed across our films to get a better understanding of the nature of our data and begin to infer why it might be the case."
   ]
  },
  {
   "cell_type": "code",
   "execution_count": 21,
   "metadata": {},
   "outputs": [
    {
     "data": {
      "text/plain": [
       "1      140714\n",
       "2      291522\n",
       "3      312678\n",
       "4      738008\n",
       "5      862893\n",
       "6     1671071\n",
       "7     1559449\n",
       "8     1671702\n",
       "9      697803\n",
       "10     582600\n",
       "Name: rating_val, dtype: int64"
      ]
     },
     "execution_count": 21,
     "metadata": {},
     "output_type": "execute_result"
    }
   ],
   "source": [
    "df_mer['rating_val'].value_counts().sort_index()"
   ]
  },
  {
   "cell_type": "code",
   "execution_count": 22,
   "metadata": {},
   "outputs": [],
   "source": [
    "# map our ten point scale to reflect stars in app\n",
    "\n",
    "df_vis['stars'] = df_vis['rating_val'].map({1: 0.5, 2: 1, 3: 1.5, 4: 2, 5: 2.5, 6: 3, 7: 3.5, 8: 4, 9: 4.5, 10: 5})"
   ]
  },
  {
   "cell_type": "code",
   "execution_count": 23,
   "metadata": {
    "scrolled": true
   },
   "outputs": [
    {
     "data": {
      "image/png": "[encoded data removed]",
      "text/plain": [
       "<Figure size 1440x432 with 1 Axes>"
      ]
     },
     "metadata": {
      "needs_background": "light"
     },
     "output_type": "display_data"
    }
   ],
   "source": [
    "# visualize distribution of ratings \n",
    "\n",
    "f = plt.figure(figsize=(20, 6))\n",
    "sns.set_style(style=\"whitegrid\")\n",
    "ax = sns.countplot(data=df_vis, x=df_vis['stars'], orient=\"v\")\n",
    "ax.set(xlabel='Star Rating', ylabel='Rating Frequency in Millions')\n",
    "plt.title(\"User Film Ratings\");"
   ]
  },
  {
   "cell_type": "markdown",
   "metadata": {},
   "source": [
    "This is certainly more telling in a visual format. Now, let's order our data to see how films are most often rated."
   ]
  },
  {
   "cell_type": "code",
   "execution_count": 24,
   "metadata": {},
   "outputs": [
    {
     "data": {
      "image/png": "[encoded data removed]",
      "text/plain": [
       "<Figure size 1440x432 with 1 Axes>"
      ]
     },
     "metadata": {},
     "output_type": "display_data"
    }
   ],
   "source": [
    "# visualize distribution of ratings, ordered from highest to lowest frequency\n",
    "\n",
    "f = plt.figure(figsize=(20, 6))\n",
    "#sns.set_style(\"dark\")\n",
    "ax2 = sns.countplot(data=df_vis, x=df_vis['stars'], order=df_vis['stars'].value_counts().index, orient=\"v\")\n",
    "ax2.set(xlabel='Star Rating', ylabel='Rating Frequency (in millions)')\n",
    "plt.title(\"User Film Ratings, in Decreasing Order\");"
   ]
  },
  {
   "cell_type": "code",
   "execution_count": 25,
   "metadata": {},
   "outputs": [
    {
     "data": {
      "image/png": "[encoded data removed]",
      "text/plain": [
       "<Figure size 1440x432 with 1 Axes>"
      ]
     },
     "metadata": {},
     "output_type": "display_data"
    }
   ],
   "source": [
    "# see what it'd look like as int vs float\n",
    "\n",
    "df_vis['stars'] = df_vis['rating_val'].map({1: 0, 2: 1, 3: 1, 4: 2, 5: 2, 6: 3, 7: 3, 8: 4, 9: 4, 10: 5})\n",
    "\n",
    "# visualize distribution of ratings, ordered from highest to lowest frequency\n",
    "\n",
    "f = plt.figure(figsize=(20, 6))\n",
    "#sns.set_style(\"dark\")\n",
    "ax2 = sns.countplot(data=df_vis, x=df_vis['stars'], order=df_vis['stars'].value_counts().index, orient=\"v\")\n",
    "ax2.set(xlabel='Star Rating', ylabel='Rating Frequency (in millions)')\n",
    "plt.title(\"User Film Ratings, in Decreasing Order\");"
   ]
  },
  {
   "cell_type": "markdown",
   "metadata": {},
   "source": [
    "From this chart, we can see that most films in our dataset are rated 6-8 on our 10 point scale (or 3-4 stars in Letterboxd). The films with the worst ratings tend to be much more sparse - so, we might infer that top Letterboxd user's tend to rate films they enjoy.\n",
    "\n",
    "It'd be interesting to dive deeper into what spurs a review - say if there's an incentive to develop authority on the app, if they're creating a catalogue of previously watched films (where favorites would be most recallable in memory), or if these film lovers tend to watch and rate films they're more likely due to enjoy because of developed and understood preferences. This would not eliminate the need for our recommender system, still, but instead would mean the inclusion of qualitative data pre and post deployment could prove even more valuable. I also find it significant that 5 star ratings (9-10 on our scale above) and essentially ratings on both extreme sides of the spectrum are less frequent. I think the psycological reasons why might prove valuable and telling. This could make our research more interesting or influence product development in order to gain as close to accurate ratings as possible.\n",
    "\n",
    "I think further understanding the amount of reviews from distinct Letterboxd users could also help us better understand their related psycolographics and behavior.\n",
    "\n",
    "If one user represents a group of film critics that come out with their favorite film of the week, this is worth knowing."
   ]
  },
  {
   "cell_type": "markdown",
   "metadata": {},
   "source": [
    "### Which films garner the most ratings amongst Letterboxd users?"
   ]
  },
  {
   "cell_type": "code",
   "execution_count": 26,
   "metadata": {},
   "outputs": [
    {
     "data": {
      "text/plain": [
       "get-out-2017                     3762\n",
       "parasite-2019                    3761\n",
       "knives-out-2019                  3628\n",
       "once-upon-a-time-in-hollywood    3586\n",
       "lady-bird                        3570\n",
       "                                 ... \n",
       "asi-es-madrid                       1\n",
       "welcome_homeexe                     1\n",
       "morat-balas-perdidas                1\n",
       "alexithymia                         1\n",
       "or-our-budapest                     1\n",
       "Name: movie_id, Length: 230858, dtype: int64"
      ]
     },
     "execution_count": 26,
     "metadata": {},
     "output_type": "execute_result"
    }
   ],
   "source": [
    "# see the distrubtion of ratings each film has\n",
    "df_mer['movie_id'].value_counts()"
   ]
  },
  {
   "cell_type": "code",
   "execution_count": 27,
   "metadata": {},
   "outputs": [
    {
     "data": {
      "text/plain": [
       "get-out-2017                        3762\n",
       "parasite-2019                       3761\n",
       "knives-out-2019                     3628\n",
       "once-upon-a-time-in-hollywood       3586\n",
       "lady-bird                           3570\n",
       "baby-driver                         3517\n",
       "la-la-land                          3497\n",
       "gone-girl                           3486\n",
       "joker-2019                          3452\n",
       "us-2019                             3443\n",
       "arrival-2016                        3437\n",
       "hereditary                          3422\n",
       "star-wars-the-force-awakens         3421\n",
       "mad-max-fury-road                   3404\n",
       "spider-man-into-the-spider-verse    3404\n",
       "midsommar                           3389\n",
       "a-quiet-place-2018                  3371\n",
       "star-wars-the-last-jedi             3365\n",
       "guardians-of-the-galaxy             3342\n",
       "the-shining                         3334\n",
       "whiplash-2014                       3324\n",
       "black-panther                       3315\n",
       "the-grand-budapest-hotel            3302\n",
       "dunkirk-2017                        3294\n",
       "uncut-gems                          3282\n",
       "it-2017                             3276\n",
       "the-shape-of-water                  3268\n",
       "ex-machina-2014                     3266\n",
       "avengers-infinity-war               3263\n",
       "moonlight-2016                      3259\n",
       "Name: movie_id, dtype: int64"
      ]
     },
     "execution_count": 27,
     "metadata": {},
     "output_type": "execute_result"
    }
   ],
   "source": [
    "df_mer['movie_id'].value_counts().sort_index().nlargest(30)"
   ]
  },
  {
   "cell_type": "code",
   "execution_count": 28,
   "metadata": {},
   "outputs": [
    {
     "data": {
      "text/plain": [
       "0          2020\n",
       "1          2020\n",
       "2          2020\n",
       "3          2020\n",
       "4          2020\n",
       "           ... \n",
       "8528435    1973\n",
       "8528436    2015\n",
       "8528437    1975\n",
       "8528438    2012\n",
       "8528439    2018\n",
       "Name: year_released, Length: 8528440, dtype: int64"
      ]
     },
     "execution_count": 28,
     "metadata": {},
     "output_type": "execute_result"
    }
   ],
   "source": [
    "date_idx = pd.to_datetime(df_vis.year_released.astype(int),format='%Y')\n",
    "date_idx.dt.year"
   ]
  },
  {
   "cell_type": "code",
   "execution_count": 29,
   "metadata": {},
   "outputs": [
    {
     "data": {
      "text/plain": [
       "<AxesSubplot:xlabel='year_released'>"
      ]
     },
     "execution_count": 29,
     "metadata": {},
     "output_type": "execute_result"
    },
    {
     "data": {
      "image/png": "[encoded data removed]",
      "text/plain": [
       "<Figure size 432x288 with 1 Axes>"
      ]
     },
     "metadata": {},
     "output_type": "display_data"
    }
   ],
   "source": [
    "df_vis.groupby((date_idx.dt.year // 10) * 10).count().iloc[:,0].plot(kind='bar')\n",
    "\n",
    "# save series, and use with seaborn to look prettier, further develop analysis\n"
   ]
  },
  {
   "cell_type": "markdown",
   "metadata": {},
   "source": [
    "The most frequently rated films are clearly the more recent hits of the past decade, along with top-rated classics in the film world like The Shinning. Since Letterboxd was created in 2011 - it seems like the majority of reviews are likely rated upon being watched (versus say creating an archive of previously seen films to rate).\n",
    "\n",
    "This also perhaps begs deeper questions of if recently released films would incentivize folks to rate the film publicly, if users represent companies or more high-profile users, and more. This would be interesting to explore with team interviews and by diving deeper into top-users themselves and their qualififcations/related-criteria."
   ]
  },
  {
   "cell_type": "markdown",
   "metadata": {},
   "source": [
    "### How many films do our users typically rate?\n",
    "\n",
    "The scraper we obtained specifically lists these folks as representative of the very top Letterboxd users - so let's better understand how many films the top Letterboxd users rate. This should help us better gauge what dictates a user is considered \"top\" or a \"film lover\" from the social networking app. It'll also begin to shed light on user profiles and help us understand how user similarities might be created or dissected later during our modeling phase."
   ]
  },
  {
   "cell_type": "code",
   "execution_count": 30,
   "metadata": {
    "scrolled": true
   },
   "outputs": [
    {
     "data": {
      "text/plain": [
       "acervofilmico      73993\n",
       "ghettominibar      24388\n",
       "punq               23828\n",
       "loureviews         22202\n",
       "thecinema4pylon    20371\n",
       "                   ...  \n",
       "brunadnts              1\n",
       "oski99                 1\n",
       "john209                1\n",
       "scottnye               1\n",
       "lilfilm                1\n",
       "Name: user_id, Length: 4501, dtype: int64"
      ]
     },
     "execution_count": 30,
     "metadata": {},
     "output_type": "execute_result"
    }
   ],
   "source": [
    "# see the range of reviews users have completed\n",
    "\n",
    "df_vis['user_id'].value_counts()"
   ]
  },
  {
   "cell_type": "markdown",
   "metadata": {},
   "source": [
    "OPTIONAL PERCENTILES:\n",
    "\n",
    "I find it interesting that users with only one film review are included here. Does this mean there are a significant amount of users on Letterboxd who have not rated a film at all or is there another gauage to determine \"top\" users. It's worth noting that there reportedly are at least X users total on app within the period this data was scraped - and we have 4,501 represented within our data."
   ]
  },
  {
   "cell_type": "code",
   "execution_count": 31,
   "metadata": {},
   "outputs": [],
   "source": [
    "# see the amount of users with only one film reviewed\n",
    "\n",
    "\n",
    "# percentage of total\n",
    "\n",
    "# average rating across users (and varying ways of dictating average)\n",
    "\n",
    "# users with one film rating\n",
    "\n",
    "# users with over 1K\n",
    "\n",
    "# #df_mer['user_id'].value_counts() == 1\n",
    "\n",
    "# bring in percentiles"
   ]
  },
  {
   "cell_type": "code",
   "execution_count": 32,
   "metadata": {},
   "outputs": [
    {
     "name": "stderr",
     "output_type": "stream",
     "text": [
      "/opt/anaconda3/envs/learn-env/lib/python3.6/site-packages/seaborn/distributions.py:2557: FutureWarning: `distplot` is a deprecated function and will be removed in a future version. Please adapt your code to use either `displot` (a figure-level function with similar flexibility) or `histplot` (an axes-level function for histograms).\n",
      "  warnings.warn(msg, FutureWarning)\n"
     ]
    },
    {
     "data": {
      "image/png": "[encoded data removed]",
      "text/plain": [
       "<Figure size 432x288 with 1 Axes>"
      ]
     },
     "metadata": {},
     "output_type": "display_data"
    }
   ],
   "source": [
    "# see the full distribution of user film reviews\n",
    "\n",
    "df_viz_u = df_vis['user_id'].value_counts()\n",
    "x = pd.Series(df_viz_u, name=\"Number of Film Reviews\")\n",
    "ax = sns.distplot(x)"
   ]
  },
  {
   "cell_type": "code",
   "execution_count": 33,
   "metadata": {},
   "outputs": [
    {
     "name": "stderr",
     "output_type": "stream",
     "text": [
      "/opt/anaconda3/envs/learn-env/lib/python3.6/site-packages/seaborn/distributions.py:2557: FutureWarning: `distplot` is a deprecated function and will be removed in a future version. Please adapt your code to use either `displot` (a figure-level function with similar flexibility) or `kdeplot` (an axes-level function for kernel density plots).\n",
      "  warnings.warn(msg, FutureWarning)\n"
     ]
    },
    {
     "data": {
      "image/png": "[encoded data removed]",
      "text/plain": [
       "<Figure size 432x288 with 1 Axes>"
      ]
     },
     "metadata": {},
     "output_type": "display_data"
    }
   ],
   "source": [
    "# zero in on our distribution to better understand the typical amount of user reviews\n",
    "\n",
    "ax = sns.distplot(x, hist=False, kde_kws={'clip': (0.0, 10000.00)});"
   ]
  },
  {
   "cell_type": "markdown",
   "metadata": {},
   "source": [
    "OPTIONAL PERCENTILE:\n",
    "How many of our users have only rated one film? This makes me wonder why Sam (scraper) listed these as the top. What qualifies them?"
   ]
  },
  {
   "cell_type": "code",
   "execution_count": 34,
   "metadata": {},
   "outputs": [],
   "source": [
    "# average rating across users (and varying ways of dictating average)\n",
    "\n",
    "# users with one film rating\n",
    "\n",
    "# users with over 1K\n",
    "\n",
    "# #df_mer['user_id'].value_counts() == 1\n",
    "\n",
    "# bring in percentiles"
   ]
  },
  {
   "cell_type": "markdown",
   "metadata": {},
   "source": [
    "We can see that many users lie outside the typical range of activity (films reviewed). With additional time, it might be worth revisiting how we might trim our ratings data based off of this and see if we can further tune our model's accuracy."
   ]
  },
  {
   "cell_type": "markdown",
   "metadata": {},
   "source": [
    "## Ensure our merged dataset is ready for our recommendation system"
   ]
  },
  {
   "cell_type": "markdown",
   "metadata": {},
   "source": [
    "In our next notebook, we'll use the surprise library to bring both K-Nearest Neighbor (KNN) and Standard (SVD) model approaches to our dataset.\n",
    "\n",
    "Surprise, a loose abbreviation for X, needs to have only three columns of data present - the user, item, and rating.\n",
    "\n",
    "We'll need to modify our merged set to ensure only the following columns of data are present: `user_id`, `movie_id`, and `rating_id`."
   ]
  },
  {
   "cell_type": "code",
   "execution_count": 35,
   "metadata": {},
   "outputs": [],
   "source": [
    "# prove reason we're dropping title by taking unique number of each, to see the difference\n",
    "# or bring up a few examples within the same movie_title to see the disparate id"
   ]
  },
  {
   "cell_type": "markdown",
   "metadata": {},
   "source": [
    "Please note above, while `movie_title` also signifies the film in question (aka the item), there are duplicates within this column even for disparate `movie_id`'s. This tells us `movie_id` is the right choice to ensure we're not innacurately understanding film ratings."
   ]
  },
  {
   "cell_type": "code",
   "execution_count": 36,
   "metadata": {},
   "outputs": [],
   "source": [
    "# create df ready for model-based approach\n",
    "df = df_mer.copy()\n",
    "df.drop(columns=['image_url', 'movie_title', 'year_released'], inplace=True)"
   ]
  },
  {
   "cell_type": "code",
   "execution_count": 37,
   "metadata": {},
   "outputs": [
    {
     "data": {
      "text/html": [
       "<div>\n",
       "<style scoped>\n",
       "    .dataframe tbody tr th:only-of-type {\n",
       "        vertical-align: middle;\n",
       "    }\n",
       "\n",
       "    .dataframe tbody tr th {\n",
       "        vertical-align: top;\n",
       "    }\n",
       "\n",
       "    .dataframe thead th {\n",
       "        text-align: right;\n",
       "    }\n",
       "</style>\n",
       "<table border=\"1\" class=\"dataframe\">\n",
       "  <thead>\n",
       "    <tr style=\"text-align: right;\">\n",
       "      <th></th>\n",
       "      <th>movie_id</th>\n",
       "      <th>rating_val</th>\n",
       "      <th>user_id</th>\n",
       "    </tr>\n",
       "  </thead>\n",
       "  <tbody>\n",
       "    <tr>\n",
       "      <th>0</th>\n",
       "      <td>happiest-season</td>\n",
       "      <td>8</td>\n",
       "      <td>deathproof</td>\n",
       "    </tr>\n",
       "    <tr>\n",
       "      <th>1</th>\n",
       "      <td>happiest-season</td>\n",
       "      <td>7</td>\n",
       "      <td>davidehrlich</td>\n",
       "    </tr>\n",
       "    <tr>\n",
       "      <th>2</th>\n",
       "      <td>happiest-season</td>\n",
       "      <td>4</td>\n",
       "      <td>ingridgoeswest</td>\n",
       "    </tr>\n",
       "    <tr>\n",
       "      <th>3</th>\n",
       "      <td>happiest-season</td>\n",
       "      <td>7</td>\n",
       "      <td>silentdawn</td>\n",
       "    </tr>\n",
       "    <tr>\n",
       "      <th>4</th>\n",
       "      <td>happiest-season</td>\n",
       "      <td>2</td>\n",
       "      <td>colonelmortimer</td>\n",
       "    </tr>\n",
       "  </tbody>\n",
       "</table>\n",
       "</div>"
      ],
      "text/plain": [
       "          movie_id  rating_val          user_id\n",
       "0  happiest-season           8       deathproof\n",
       "1  happiest-season           7     davidehrlich\n",
       "2  happiest-season           4   ingridgoeswest\n",
       "3  happiest-season           7       silentdawn\n",
       "4  happiest-season           2  colonelmortimer"
      ]
     },
     "execution_count": 37,
     "metadata": {},
     "output_type": "execute_result"
    }
   ],
   "source": [
    "df.head()"
   ]
  },
  {
   "cell_type": "markdown",
   "metadata": {},
   "source": [
    "Now, we're ready to start modeling in order to predict the best film recommendations. Let's ensure we can bring our resulting dataframe into our modeling notebook here.(link)"
   ]
  },
  {
   "cell_type": "code",
   "execution_count": 38,
   "metadata": {},
   "outputs": [],
   "source": [
    "# pickle for saving df for modeling and our gridsearch\n",
    "import pickle\n",
    "pickle.dump(df,open(\"df.pkl\", \"wb\")) #write bytes"
   ]
  }
 ],
 "metadata": {
  "kernelspec": {
   "display_name": "Python 3",
   "language": "python",
   "name": "python3"
  },
  "language_info": {
   "codemirror_mode": {
    "name": "ipython",
    "version": 3
   },
   "file_extension": ".py",
   "mimetype": "text/x-python",
   "name": "python",
   "nbconvert_exporter": "python",
   "pygments_lexer": "ipython3",
   "version": "3.6.12"
  }
 },
 "nbformat": 4,
 "nbformat_minor": 4
}
